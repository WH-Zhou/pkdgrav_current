{
 "cells": [
  {
   "cell_type": "code",
   "execution_count": 6,
   "metadata": {},
   "outputs": [],
   "source": [
    "import pkdtools as pt\n",
    "import numpy as np\n",
    "import matplotlib.pyplot as plt\n",
    "import os\n",
    "import imageio\n",
    "\n",
    "\n",
    "M_sun = 1.989e30\n",
    "au = 1.496e11\n",
    "yr = 3.154e7 \n"
   ]
  },
  {
   "cell_type": "code",
   "execution_count": 2,
   "metadata": {},
   "outputs": [
    {
     "name": "stdout",
     "output_type": "stream",
     "text": [
      "/Users/wenzhou/Documents/pkdgrav_current_master/rotation_disruption/P_2.2\n"
     ]
    }
   ],
   "source": [
    "cd ./P_2.2"
   ]
  },
  {
   "cell_type": "code",
   "execution_count": 9,
   "metadata": {},
   "outputs": [],
   "source": [
    "# change the spin rate of the aggregate\n",
    "# data = pt.ss_in('initcond.ss', units='mks')\n",
    "# period = data.period()\n",
    "# print(period)\n",
    "# ratio = period /(2.2 * 3600)\n",
    "# for x in data:\n",
    "#     x.vx = x.vx * ratio\n",
    "#     x.vy = x.vy * ratio\n",
    "#     x.vz = x.vz * ratio\n",
    "# new_data = pt.Assembly(*[x for x in data], units='mks')\n",
    "# pt.ss_out(new_data, 'initcond.ss')\n",
    "# print(new_data.period()/3600)\n",
    "\n",
    "# calculate the displacement of the aggregate\n",
    "\n",
    "def reset_initcond(init_period, file1, file2):\n",
    "    # init_period: h\n",
    "    data = pt.ss_in(file1, units='mks')\n",
    "    period = data.period()     # s\n",
    "    # print(period)\n",
    "    ratio = period /(init_period * 3600)\n",
    "    for x in data:\n",
    "        x.vx = x.vx * ratio\n",
    "        x.vy = x.vy * ratio\n",
    "        x.vz = x.vz * ratio\n",
    "    new_data = pt.Assembly(*[x for x in data], units='mks')\n",
    "    pt.ss_out(new_data, file2)\n",
    "\n",
    "def plot_file(filename):\n",
    "    data = pt.ss_in(filename, units='mks')\n",
    "    x = np.zeros(len(data))\n",
    "    y = np.zeros(len(data))\n",
    "    z = np.zeros(len(data))\n",
    "    for i in range(len(data)):\n",
    "        x[i] = data[i].x\n",
    "        y[i] = data[i].y\n",
    "        z[i] = data[i].z\n",
    "    plt.plot(x,y,'.')\n",
    "    plt.show()\n",
    "\n",
    "def get_displacement(init, final):\n",
    "    init_data = pt.ss_in(init, units='mks')\n",
    "    final_data = pt.ss_in(final, units='mks')\n",
    "    displacement = np.zeros([len(init_data),4])\n",
    "    for i in range(len(init_data)):\n",
    "        displacement[i,0] = final_data[i].x - init_data[i].x\n",
    "        displacement[i,1] = final_data[i].y - init_data[i].y\n",
    "        displacement[i,2] = final_data[i].z - init_data[i].z\n",
    "        displacement[i,3] = np.sqrt(displacement[i,0]**2 + displacement[i,1]**2 + displacement[i,2]**2)\n",
    "    return displacement\n",
    "\n",
    "data = pt.ss_in('initcond.ss', units='mks')\n",
    "data.period()/3600\n",
    "reset_initcond(3, 'initcond.ss', 'initcond.ss')\n",
    "    "
   ]
  },
  {
   "cell_type": "code",
   "execution_count": 8,
   "metadata": {},
   "outputs": [
    {
     "name": "stderr",
     "output_type": "stream",
     "text": [
      "/var/folders/yx/n0ldhkpn0hq62r679b3mq7tm0000gn/T/ipykernel_14739/2808041362.py:24: DeprecationWarning: Starting with ImageIO v3 the behavior of this function will switch to that of iio.v3.imread. To keep the current behavior (and make this warning disappear) use `import imageio.v2 as imageio` or call `imageio.v2.imread` directly.\n",
      "  images.append(imageio.imread('gif/'+filename+'.png'))\n"
     ]
    },
    {
     "data": {
      "text/plain": [
       "<Figure size 640x480 with 0 Axes>"
      ]
     },
     "metadata": {},
     "output_type": "display_data"
    }
   ],
   "source": [
    "def plot_file(filename):\n",
    "    data = pt.ss_in(filename, units='mks')\n",
    "    x = np.zeros(len(data))\n",
    "    y = np.zeros(len(data))\n",
    "    z = np.zeros(len(data))\n",
    "    for i in range(len(data)):\n",
    "        x[i] = data[i].x\n",
    "        y[i] = data[i].y\n",
    "        z[i] = data[i].z\n",
    "    plt.plot(x,y,'.')\n",
    "    plt.savefig('gif/'+filename+'.png')\n",
    "    plt.clf()\n",
    "    # plt.show()\n",
    "\n",
    "def make_animation():\n",
    "    max_index = 2000000\n",
    "    min_index = 10000\n",
    "    delta_index = 10000\n",
    "    images = []\n",
    "    for i in range(min_index, max_index, delta_index):\n",
    "        filename = 'ss.'+ '0'*(7-len(str(i)))  +  str(i)\n",
    "        # print(filename)\n",
    "        plot_file(filename)\n",
    "        images.append(imageio.imread('gif/'+filename+'.png'))\n",
    "        os.remove('gif/'+filename+'.png')\n",
    "    \n",
    "    imageio.mimsave('gif/animation.gif', images)\n",
    "    # plot_file('ss.0')\n",
    "\n",
    "fig = plt.figure()\n",
    "make_animation()\n",
    "\n"
   ]
  },
  {
   "cell_type": "code",
   "execution_count": 86,
   "metadata": {},
   "outputs": [
    {
     "data": {
      "text/plain": [
       "3"
      ]
     },
     "execution_count": 86,
     "metadata": {},
     "output_type": "execute_result"
    }
   ],
   "source": [
    "len(str(200))"
   ]
  },
  {
   "cell_type": "code",
   "execution_count": 49,
   "metadata": {},
   "outputs": [],
   "source": [
    "# Load data\n",
    "data = pt.ss_in('ss.2000000', units = 'mks')"
   ]
  },
  {
   "cell_type": "code",
   "execution_count": 7,
   "metadata": {},
   "outputs": [],
   "source": [
    "# set inner particles to color 6\n",
    "# set outer particles to color 5\n",
    "\n",
    "for x in data:\n",
    "    if x.x**2 + x.y**2 + x.z**2 <= 700**2:\n",
    "        x.color = 1\n",
    "    else:\n",
    "        x.color = 6\n",
    "\n",
    "pt.ss_out(data, 'ss.2000000')\n"
   ]
  },
  {
   "cell_type": "code",
   "execution_count": 17,
   "metadata": {},
   "outputs": [
    {
     "data": {
      "text/plain": [
       "0.38871874216326263"
      ]
     },
     "execution_count": 17,
     "metadata": {},
     "output_type": "execute_result"
    }
   ],
   "source": [
    "# set inner cohesion = 0\n",
    "# set outer cohesion = 0.1\n",
    "\n",
    "def get_cohesion(C = 10, beta = 0.5, N_cont = 5, eta = 0.7, phi = 35*np.pi/180):\n",
    "    # C: macroscopic cohesion\n",
    "    # beta: shape factor\n",
    "    # N_cont: number of contacts\n",
    "    # eta: packing efficiency\n",
    "    # phi: friction angle\n",
    "    c = 4 * np.pi * C / (beta**2 *N_cont * eta * np.tan(phi) )   # Pa\n",
    "    c_pkd = c / M_sun * au * (yr/(2*np.pi))**2\n",
    "\n",
    "    return c_pkd\n",
    "\n",
    "\n",
    "cohesion = np.array([[2, 3], \n",
    "                     [1, get_cohesion(C = 1e4)], \n",
    "                     [6, get_cohesion(C = 10)]]) \n",
    "np.savetxt('cohesion.dat', cohesion)\n",
    "get_cohesion(C = 1e4)"
   ]
  },
  {
   "cell_type": "code",
   "execution_count": 104,
   "metadata": {},
   "outputs": [],
   "source": [
    "assembly = pt.Assembly(*[x for x in data if x.color == 6])"
   ]
  },
  {
   "cell_type": "code",
   "execution_count": 103,
   "metadata": {},
   "outputs": [
    {
     "data": {
      "text/plain": [
       "(1.224744871391589+1.2247448713915892j)"
      ]
     },
     "execution_count": 103,
     "metadata": {},
     "output_type": "execute_result"
    }
   ],
   "source": [
    "np.sqrt(1j * 3)"
   ]
  },
  {
   "cell_type": "code",
   "execution_count": null,
   "metadata": {},
   "outputs": [],
   "source": []
  }
 ],
 "metadata": {
  "kernelspec": {
   "display_name": "Python 3",
   "language": "python",
   "name": "python3"
  },
  "language_info": {
   "codemirror_mode": {
    "name": "ipython",
    "version": 3
   },
   "file_extension": ".py",
   "mimetype": "text/x-python",
   "name": "python",
   "nbconvert_exporter": "python",
   "pygments_lexer": "ipython3",
   "version": "3.9.6"
  },
  "orig_nbformat": 4
 },
 "nbformat": 4,
 "nbformat_minor": 2
}
