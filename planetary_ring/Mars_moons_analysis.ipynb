{
 "cells": [
  {
   "cell_type": "code",
   "execution_count": 6,
   "metadata": {},
   "outputs": [
    {
     "name": "stdout",
     "output_type": "stream",
     "text": [
      "Oribit Period (h):  4.717072242290348\n",
      "timestep (h):  0.00013951522311435544\n",
      "orbital radius:  0.7495651425700742\n",
      "orbital speed (m/s):  2508.247996118202\n",
      "lambda crit (m):  1.9246677987962788\n",
      "Surface density (kg/m^2):  100.0\n",
      "Scale height:  7.37571913261543e-07\n",
      "Escape speed (m/s):  0.0002109391697464777\n",
      "Unit speed (m/s):  0.00018500132734313338\n",
      "Theoretical collision speed (m/s):  0.0018500132734313337\n",
      "dimensions:  7.698671195185115 7.698671195185115 5.0\n"
     ]
    }
   ],
   "source": [
    "from pkdtools import *\n",
    "import numpy as np\n",
    "import matplotlib.pyplot as plt\n",
    "import matplotlib.gridspec as gridspec\n",
    "\n",
    "from mpl_toolkits.mplot3d import Axes3D  # not always necessary but good for older versions\n",
    "import imageio\n",
    "import os\n",
    "import seaborn as sns\n",
    "import pandas as pd\n",
    "\n",
    "\n",
    "G = 6.67430e-11  # m^3 kg^-1 s^-2\n",
    "yr = 3.15576e7  # seconds\n",
    "au = 1.496e11  # m\n",
    "\n",
    "# Center body parameters\n",
    "r_center = 3.3895e6  # m: Martian radius\n",
    "M_center = 6.39e23 # kg: Martian mass\n",
    "rho_center = M_center / (4/3 * np.pi * r_center**3)  # kg/m^3: Martian density\n",
    "\n",
    "# \n",
    "rho = 1e3\n",
    "tau = 0.15   # optical depth\n",
    "r = 0.5    # 0.25 - 0.75\n",
    "\n",
    "R_roche = 1.05 * (M_center/rho)**(1/3)\n",
    "\n",
    "Sigma = 4 * rho * r * tau / 3\n",
    "orbit_radius = 2 * r_center      # Roche limit is a bit larger: 2.5 r_center\n",
    "orbit_speed = np.sqrt(G * M_center / orbit_radius)\n",
    "omega_orb = np.sqrt(G * M_center / (orbit_radius)**3)\n",
    "period_orb = 2 * np.pi / omega_orb\n",
    "escape_speed = np.sqrt(2 * G * 4/3 * rho * r**3 / r)\n",
    "unit_speed = omega_orb * r\n",
    "\n",
    "\n",
    "lambda_crit = 4 * np.pi**2 * G * Sigma / omega_orb**2\n",
    "Lx = 4 * lambda_crit\n",
    "Ly = 4 * lambda_crit\n",
    "Lz = 10 * r   # 5 m\n",
    "\n",
    "theoretical_collision_speed = Lz / orbit_radius * orbit_speed\n",
    "\n",
    "print('Oribit Period (h): ', period_orb/3600)\n",
    "print('timestep (h): ', 1e-07 * yr/2/np.pi/3600)\n",
    "print('orbital radius: ', orbit_radius/ R_roche)\n",
    "print('orbital speed (m/s): ', orbit_speed)\n",
    "print('lambda crit (m): ', lambda_crit)\n",
    "print('Surface density (kg/m^2): ', Sigma)\n",
    "print('Scale height: ', Lz / orbit_radius)\n",
    "print('Escape speed (m/s): ', escape_speed)\n",
    "print('Unit speed (m/s): ', unit_speed)\n",
    "print('Theoretical collision speed (m/s): ', theoretical_collision_speed)\n",
    "print('dimensions: ', Lx, Ly, Lz)"
   ]
  },
  {
   "cell_type": "code",
   "execution_count": 5,
   "metadata": {},
   "outputs": [
    {
     "data": {
      "text/plain": [
       "150.0"
      ]
     },
     "execution_count": 5,
     "metadata": {},
     "output_type": "execute_result"
    }
   ],
   "source": [
    "Sigma"
   ]
  },
  {
   "cell_type": "code",
   "execution_count": null,
   "metadata": {},
   "outputs": [],
   "source": []
  }
 ],
 "metadata": {
  "kernelspec": {
   "display_name": "Python 3",
   "language": "python",
   "name": "python3"
  },
  "language_info": {
   "codemirror_mode": {
    "name": "ipython",
    "version": 3
   },
   "file_extension": ".py",
   "mimetype": "text/x-python",
   "name": "python",
   "nbconvert_exporter": "python",
   "pygments_lexer": "ipython3",
   "version": "3.9.6"
  }
 },
 "nbformat": 4,
 "nbformat_minor": 2
}
